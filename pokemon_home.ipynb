{
  "nbformat": 4,
  "nbformat_minor": 0,
  "metadata": {
    "colab": {
      "name": "Untitled0.ipynb",
      "provenance": [],
      "collapsed_sections": [],
      "authorship_tag": "ABX9TyPlZfI6A5niwe30+My0+0CL",
      "include_colab_link": true
    },
    "kernelspec": {
      "name": "python3",
      "display_name": "Python 3"
    },
    "language_info": {
      "name": "python"
    }
  },
  "cells": [
    {
      "cell_type": "markdown",
      "metadata": {
        "id": "view-in-github",
        "colab_type": "text"
      },
      "source": [
        "<a href=\"https://colab.research.google.com/github/okuokuch/pokemon_home/blob/main/pokemon_home.ipynb\" target=\"_parent\"><img src=\"https://colab.research.google.com/assets/colab-badge.svg\" alt=\"Open In Colab\"/></a>"
      ]
    },
    {
      "cell_type": "markdown",
      "source": [
        "# Pokemon HOMEのシーズン情報取得"
      ],
      "metadata": {
        "id": "UEXHmtuqdlZY"
      }
    },
    {
      "cell_type": "markdown",
      "source": [
        "Githubからファイルを取得"
      ],
      "metadata": {
        "id": "BkBGvvTCn39e"
      }
    },
    {
      "cell_type": "code",
      "source": [
        "!git clone https://github.com/okuokuch/pokemon_home.git"
      ],
      "metadata": {
        "id": "uoH5Nhs1nkgm",
        "outputId": "bf6b7575-6c8e-45ae-fd3b-49cacb0f744e",
        "colab": {
          "base_uri": "https://localhost:8080/"
        }
      },
      "execution_count": 1,
      "outputs": [
        {
          "output_type": "stream",
          "name": "stdout",
          "text": [
            "Cloning into 'pokemon_home'...\n",
            "remote: Enumerating objects: 26, done.\u001b[K\n",
            "remote: Counting objects: 100% (26/26), done.\u001b[K\n",
            "remote: Compressing objects: 100% (25/25), done.\u001b[K\n",
            "remote: Total 26 (delta 8), reused 0 (delta 0), pack-reused 0\u001b[K\n",
            "Unpacking objects: 100% (26/26), done.\n"
          ]
        }
      ]
    },
    {
      "cell_type": "code",
      "source": [
        "import json\n",
        "import pandas as pd\n",
        "import ast\n",
        "df_poke = pd.read_csv(\"./pokemon_home/poke_id.csv\", encoding=\"UTF-8\")\n",
        "with open(\"./pokemon_home/item.json\",\"r\",encoding=\"UTF-8\") as f:\n",
        "  data = f.read()\n",
        "  item_json = ast.literal_eval(data)\n",
        "with open(\"./pokemon_home/move.json\",\"r\",encoding=\"UTF-8\") as f:\n",
        "  data = f.read()\n",
        "  move_json = ast.literal_eval(data)\n",
        "with open(\"./pokemon_home/seikaku.json\",\"r\",encoding=\"UTF-8\") as f:\n",
        "  data = f.read()\n",
        "  seikaku_json = ast.literal_eval(data)\n",
        "with open(\"./pokemon_home/tokusei.json\",\"r\",encoding=\"UTF-8\") as f:\n",
        "  data = f.read()\n",
        "  tokusei_json = ast.literal_eval(data)"
      ],
      "metadata": {
        "id": "J01B15pRoBP-"
      },
      "execution_count": 15,
      "outputs": []
    },
    {
      "cell_type": "code",
      "execution_count": 4,
      "metadata": {
        "id": "nXlmbOQadd8Z"
      },
      "outputs": [],
      "source": [
        "import requests\n",
        "\n",
        "#データ取得のためのダミー設定値。スマホからアクセスしているような設定。\n",
        "headers = {\n",
        "    'accept': 'application/json, text/javascript, */*; q=0.01',\n",
        "    'countrycode': '304',\n",
        "    'authorization': 'Bearer',\n",
        "    'langcode': '1',\n",
        "    'user-agent': 'Mozilla/5.0 (Linux; Android 8.0; Pixel 2 Build/OPD3.170816.012) AppleWebKit/537.36 (KHTML, like Gecko) Chrome/83.0.4103.61 Mobile Safari/537.36',\n",
        "    'content-type': 'application/json'\n",
        "}\n",
        "\n",
        "data = '{\"soft\":\"Sw\"}'\n",
        "#リクエストを出してシーズン情報を取得\n",
        "response_base = requests.post('https://api.battle.pokemon-home.com/cbd/competition/rankmatch/list', headers=headers, data=data)\n",
        "info_all = json.loads(response_base.text)"
      ]
    },
    {
      "cell_type": "markdown",
      "source": [
        "# 取り出したい情報への記入方法\n",
        "seasonの中に取り出したいシーズン番号を記入してください。  \n",
        "ruleには0か1を記入してください。(0ならシングルで1ならダブルの情報を取得します)"
      ],
      "metadata": {
        "id": "Mxqs6fPCvTp1"
      }
    },
    {
      "cell_type": "code",
      "source": [
        "#@title 取り出したい情報 { display-mode: \"both\" }\n",
        "#seasonには数字を入力して下し\n",
        "#ruleにはシングルなら1、ダブルなら0を入力してください。\n",
        "season = \"30\" #@param {type:\"string\"}\n",
        "rule = 0 #@param {type:\"integer\"}\n"
      ],
      "metadata": {
        "id": "FMxZaE3Xex1N"
      },
      "execution_count": 6,
      "outputs": []
    },
    {
      "cell_type": "code",
      "source": [
        "#指定したシーズン情報を取り出すためのリクエストパラメータ取得\n",
        "info_season = info_all['list'][season]\n",
        "\n",
        "for content in info_season:\n",
        "  if info_season[content]['rule'] == rule:\n",
        "    params = {'id':content, 'rst':str(info_season[content]['rst']), 'ts1':str(info_season[content]['ts1']), 'ts2':str(info_season[content]['ts2'])}"
      ],
      "metadata": {
        "id": "yUZlGtNeee36"
      },
      "execution_count": 7,
      "outputs": []
    },
    {
      "cell_type": "code",
      "source": [
        "pokemon_json ={}\n",
        "for x in range(1,6):\n",
        "    adress = \"https://resource.pokemon-home.com/battledata/ranking/\"+params[\"id\"]+\"/\"+params[\"rst\"]+\"/\"+params[\"ts2\"]+\"/pdetail-\"+str(x)\n",
        "    headers = {\n",
        "        'user-agent': 'Mozilla/5.0 (Linux; Android 8.0; Pixel 2 Build/OPD3.170816.012) AppleWebKit/537.36 (KHTML, like Gecko) Chrome/83.0.4103.61 Mobile Safari/537.36',\n",
        "        'content-type': 'application/json',\n",
        "    }\n",
        "\n",
        "    response = requests.get(adress, headers=headers)\n",
        "    json_read= json.loads(response.text)\n",
        "    pokemon_json.update(json_read)"
      ],
      "metadata": {
        "id": "VF5pibOTj2st"
      },
      "execution_count": 10,
      "outputs": []
    },
    {
      "cell_type": "code",
      "source": [
        "from tqdm import tqdm\n",
        "df_poke_item = pd.DataFrame()\n",
        "df_poke_nature = pd.DataFrame()\n",
        "df_poke_ability = pd.DataFrame()\n",
        "df_poke_move = pd.DataFrame()\n",
        "\n",
        "\n",
        "for poke in tqdm(pokemon_json):\n",
        "  for region in pokemon_json[str(poke)]:\n",
        "    #ポケモン名を取得\n",
        "    name = df_poke[(df_poke['id'] == int(poke)) & (df_poke['リージョン'] == int(region))]['ポケモン名'].values[0]\n",
        "    temoti = pokemon_json[str(poke)][region]['temoti']\n",
        "\n",
        "    list_motimono = [name]\n",
        "    list_seikaku = [name]\n",
        "    list_tokusei = [name]\n",
        "    list_waza = [name]\n",
        "\n",
        "    #もちもので展開しlistに格納。\n",
        "    for info_motimono in temoti['motimono']:\n",
        "      motimono = item_json[int(info_motimono['id'])]\n",
        "      list_motimono.append(motimono)\n",
        "      list_motimono.append(info_motimono['val'])    \n",
        "    #性格で展開しlistに格納。\n",
        "    for info_seikaku in temoti['seikaku']:\n",
        "      seikaku = seikaku_json[int(info_seikaku['id'])]\n",
        "      list_seikaku.append(seikaku)\n",
        "      list_seikaku.append(info_seikaku['val'])\n",
        "    #特性で展開しlistに格納。\n",
        "    for info_tokusei in temoti['tokusei']:\n",
        "      tokusei = tokusei_json[int(info_tokusei['id'])]\n",
        "      list_tokusei.append(seikaku)\n",
        "      list_tokusei.append(info_tokusei['val'])\n",
        "    #技名で展開しlistに格納。\n",
        "    for info_waza in temoti['waza']:\n",
        "      waza = move_json[int(info_waza['id'])]\n",
        "      list_waza.append(waza)\n",
        "      list_waza.append(info_waza['val'])\n",
        "    df_poke_item = df_poke_item.append([list_motimono])\n",
        "    df_poke_nature = df_poke_nature.append([list_seikaku])\n",
        "    df_poke_ability = df_poke_ability.append([list_tokusei])\n",
        "    df_poke_move = df_poke_move.append([list_waza])"
      ],
      "metadata": {
        "colab": {
          "base_uri": "https://localhost:8080/"
        },
        "id": "3r-XUslWv-e4",
        "outputId": "26de3641-a0ed-4af0-9368-c25c40b3b6f9"
      },
      "execution_count": 52,
      "outputs": [
        {
          "output_type": "stream",
          "name": "stderr",
          "text": [
            "100%|██████████| 492/492 [00:07<00:00, 69.67it/s]\n"
          ]
        }
      ]
    },
    {
      "cell_type": "code",
      "source": [
        "#各データフレームはポケモン名、要素1、割合1、要素2、割合2、、、となるのでそれに沿ってカラム名付与\n",
        "column_item = ['ポケモン名']\n",
        "column_nature = ['ポケモン名']\n",
        "column_ability = ['ポケモン名']\n",
        "column_move = ['ポケモン名']\n",
        "\n",
        "column_item += ['アイテム', '割合']*int((len(df_poke_item.columns)-1)/2)\n",
        "column_nature += ['アイテム', '割合']*int((len(df_poke_nature.columns)-1)/2)\n",
        "column_ability += ['アイテム', '割合']*int((len(df_poke_ability.columns)-1)/2)\n",
        "column_move += ['アイテム', '割合']*int((len(df_poke_move.columns)-1)/2)\n",
        "\n",
        "df_poke_item.columns = column_item\n",
        "df_poke_nature.columns = column_nature\n",
        "df_poke_ability.columns = column_ability\n",
        "df_poke_move.columns = column_move"
      ],
      "metadata": {
        "id": "KlaI2hbq4j7h"
      },
      "execution_count": 69,
      "outputs": []
    },
    {
      "cell_type": "markdown",
      "source": [
        "# Google Driveにcsvファイルを書き出し。\n",
        "Google Driveをマウントして、そこにcsvファイルを書き出しする。"
      ],
      "metadata": {
        "id": "j4-TRnW-7YUE"
      }
    },
    {
      "cell_type": "code",
      "source": [
        "from google.colab import drive\n",
        "drive.mount('/content/drive')"
      ],
      "metadata": {
        "colab": {
          "base_uri": "https://localhost:8080/"
        },
        "id": "5VxZK_BK8NFQ",
        "outputId": "07a1768d-b60a-49ef-b249-43a01755b155"
      },
      "execution_count": 75,
      "outputs": [
        {
          "output_type": "stream",
          "name": "stdout",
          "text": [
            "Mounted at /content/drive\n"
          ]
        }
      ]
    },
    {
      "cell_type": "code",
      "source": [
        "#必要に応じて\"./drive/MyDrive/poke_home_item.csv\"の部分を変更してください。この設定だと、おそらく接続したGoogle Driveのトップページに保存されます。\n",
        "#もしdataというフォルダの中に保存したい場合は、\"./drive/MyDrive/data/poke_home_item.csv\"とすればよいはずです。\n",
        "df_poke_item.to_csv(\"./drive/MyDrive/poke_home_item.csv\",encoding=\"shift-jis\")\n",
        "df_poke_nature.to_csv(\"./drive/MyDrive/poke_home_nature.csv\",encoding=\"shift-jis\")\n",
        "df_poke_ability.to_csv(\"./drive/MyDrive/poke_home_ability.csv\",encoding=\"shift-jis\")\n",
        "df_poke_move.to_csv(\"./drive/MyDrive/poke_home_move.csv\",encoding=\"shift-jis\")"
      ],
      "metadata": {
        "id": "W77DBgjp7V2d"
      },
      "execution_count": 78,
      "outputs": []
    }
  ]
}