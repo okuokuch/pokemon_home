{
  "nbformat": 4,
  "nbformat_minor": 0,
  "metadata": {
    "colab": {
      "name": "Untitled0.ipynb",
      "provenance": [],
      "collapsed_sections": [],
      "authorship_tag": "ABX9TyOC7czOcaS1VhhJBZvp72Ip",
      "include_colab_link": true
    },
    "kernelspec": {
      "name": "python3",
      "display_name": "Python 3"
    },
    "language_info": {
      "name": "python"
    }
  },
  "cells": [
    {
      "cell_type": "markdown",
      "metadata": {
        "id": "view-in-github",
        "colab_type": "text"
      },
      "source": [
        "<a href=\"https://colab.research.google.com/github/okuokuch/pokemon_home/blob/main/pokemon_home.ipynb\" target=\"_parent\"><img src=\"https://colab.research.google.com/assets/colab-badge.svg\" alt=\"Open In Colab\"/></a>"
      ]
    },
    {
      "cell_type": "markdown",
      "source": [
        "# Pokemon HOMEのシーズン情報取得"
      ],
      "metadata": {
        "id": "UEXHmtuqdlZY"
      }
    },
    {
      "cell_type": "code",
      "execution_count": 29,
      "metadata": {
        "id": "nXlmbOQadd8Z"
      },
      "outputs": [],
      "source": [
        "import requests\n",
        "import json\n",
        "import pandas as pd\n",
        "\n",
        "#データ取得のためのダミー設定値。スマホからアクセスしているような設定。\n",
        "headers = {\n",
        "    'accept': 'application/json, text/javascript, */*; q=0.01',\n",
        "    'countrycode': '304',\n",
        "    'authorization': 'Bearer',\n",
        "    'langcode': '1',\n",
        "    'user-agent': 'Mozilla/5.0 (Linux; Android 8.0; Pixel 2 Build/OPD3.170816.012) AppleWebKit/537.36 (KHTML, like Gecko) Chrome/83.0.4103.61 Mobile Safari/537.36',\n",
        "    'content-type': 'application/json'\n",
        "}\n",
        "\n",
        "data = '{\"soft\":\"Sw\"}'\n",
        "#リクエストを出してシーズン情報を取得\n",
        "response_base = requests.post('https://api.battle.pokemon-home.com/cbd/competition/rankmatch/list', headers=headers, data=data)\n",
        "info_all = json.loads(response_base.text)"
      ]
    },
    {
      "cell_type": "code",
      "source": [
        "#@title 取り出したい情報 { display-mode: \"both\" }\n",
        "#seasonには数字を入力して下し\n",
        "#ruleにはシングルなら1、ダブルなら0を入力してください。\n",
        "season = \"30\" #@param {type:\"string\"}\n",
        "rule = 0 #@param {type:\"integer\"}\n"
      ],
      "metadata": {
        "id": "FMxZaE3Xex1N"
      },
      "execution_count": 22,
      "outputs": []
    },
    {
      "cell_type": "code",
      "source": [
        "#指定したシーズン情報を取り出すためのリクエストパラメータ取得\n",
        "info_season = info_all['list'][season]\n",
        "\n",
        "for content in info_season:\n",
        "  if info_season[content]['rule'] == rule:\n",
        "    params = {'id':content, 'rst':str(info_season[content]['rst']), 'ts1':str(info_season[content]['ts1']), 'ts2':str(info_season[content]['ts2'])}"
      ],
      "metadata": {
        "id": "yUZlGtNeee36"
      },
      "execution_count": 41,
      "outputs": []
    },
    {
      "cell_type": "code",
      "source": [
        "for x in range(1,2):\n",
        "    adress = \"https://resource.pokemon-home.com/battledata/ranking/\"+params[\"id\"]+\"/\"+params[\"rst\"]+\"/\"+params[\"ts2\"]+\"/pdetail-\"+str(x)\n",
        "    headers = {\n",
        "        'user-agent': 'Mozilla/5.0 (Linux; Android 8.0; Pixel 2 Build/OPD3.170816.012) AppleWebKit/537.36 (KHTML, like Gecko) Chrome/83.0.4103.61 Mobile Safari/537.36',\n",
        "        'content-type': 'application/json',\n",
        "    }\n",
        "\n",
        "    response = requests.get(adress, headers=headers)\n",
        "    json_read= json.loads(response.text)"
      ],
      "metadata": {
        "id": "VF5pibOTj2st"
      },
      "execution_count": 45,
      "outputs": []
    }
  ]
}