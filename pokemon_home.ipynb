{
  "nbformat": 4,
  "nbformat_minor": 0,
  "metadata": {
    "colab": {
      "name": "Untitled0.ipynb",
      "provenance": [],
      "collapsed_sections": [],
      "authorship_tag": "ABX9TyOuPg5F6hB5S2QYlC/XZVyb",
      "include_colab_link": true
    },
    "kernelspec": {
      "name": "python3",
      "display_name": "Python 3"
    },
    "language_info": {
      "name": "python"
    }
  },
  "cells": [
    {
      "cell_type": "markdown",
      "metadata": {
        "id": "view-in-github",
        "colab_type": "text"
      },
      "source": [
        "<a href=\"https://colab.research.google.com/github/okuokuch/pokemon_home/blob/main/pokemon_home.ipynb\" target=\"_parent\"><img src=\"https://colab.research.google.com/assets/colab-badge.svg\" alt=\"Open In Colab\"/></a>"
      ]
    },
    {
      "cell_type": "markdown",
      "source": [
        "# Pokemon HOMEのシーズン情報取得"
      ],
      "metadata": {
        "id": "UEXHmtuqdlZY"
      }
    },
    {
      "cell_type": "markdown",
      "source": [
        "Githubからファイルを取得"
      ],
      "metadata": {
        "id": "BkBGvvTCn39e"
      }
    },
    {
      "cell_type": "code",
      "source": [
        "!git clone https://github.com/okuokuch/pokemon_home.git"
      ],
      "metadata": {
        "id": "uoH5Nhs1nkgm",
        "outputId": "097176d8-646e-438a-ee43-37908cafac6b",
        "colab": {
          "base_uri": "https://localhost:8080/"
        }
      },
      "execution_count": 1,
      "outputs": [
        {
          "output_type": "stream",
          "name": "stdout",
          "text": [
            "Cloning into 'pokemon_home'...\n",
            "remote: Enumerating objects: 13, done.\u001b[K\n",
            "remote: Counting objects: 100% (13/13), done.\u001b[K\n",
            "remote: Compressing objects: 100% (12/12), done.\u001b[K\n",
            "remote: Total 13 (delta 0), reused 0 (delta 0), pack-reused 0\u001b[K\n",
            "Unpacking objects: 100% (13/13), done.\n"
          ]
        }
      ]
    },
    {
      "cell_type": "code",
      "source": [
        "import json\n",
        "import pandas as pd\n",
        "import ast\n",
        "poke_df = pd.read_csv(\"./pokemon_home/poke_id.csv\", encoding=\"UTF-8\")\n",
        "with open(\"./pokemon_home/item.json\",\"r\",encoding=\"UTF-8\") as f:\n",
        "  data = f.read()\n",
        "  item_json = ast.literal_eval(data)\n",
        "with open(\"./pokemon_home/move.json\",\"r\",encoding=\"UTF-8\") as f:\n",
        "  data = f.read()\n",
        "  move_json = ast.literal_eval(data)\n",
        "with open(\"./pokemon_home/seikaku.json\",\"r\",encoding=\"UTF-8\") as f:\n",
        "  data = f.read()\n",
        "  seikaku_json = ast.literal_eval(data)\n",
        "with open(\"./pokemon_home/tokusei.json\",\"r\",encoding=\"UTF-8\") as f:\n",
        "  data = f.read()\n",
        "  tokusei_json = ast.literal_eval(data)"
      ],
      "metadata": {
        "id": "J01B15pRoBP-",
        "outputId": "437de3fa-6d4a-4749-8f40-ab61766c2b94",
        "colab": {
          "base_uri": "https://localhost:8080/",
          "height": 135
        }
      },
      "execution_count": 21,
      "outputs": [
        {
          "output_type": "error",
          "ename": "SyntaxError",
          "evalue": "ignored",
          "traceback": [
            "\u001b[0;36m  File \u001b[0;32m\"<unknown>\"\u001b[0;36m, line \u001b[0;32munknown\u001b[0m\n\u001b[0;31m    \u001b[0m\n\u001b[0m    ^\u001b[0m\n\u001b[0;31mSyntaxError\u001b[0m\u001b[0;31m:\u001b[0m unexpected EOF while parsing\n"
          ]
        }
      ]
    },
    {
      "cell_type": "code",
      "source": [
        "data"
      ],
      "metadata": {
        "id": "NK9gHAbnp9Nm",
        "outputId": "02295127-b9a7-4825-8893-a362e7e84286",
        "colab": {
          "base_uri": "https://localhost:8080/",
          "height": 35
        }
      },
      "execution_count": 20,
      "outputs": [
        {
          "output_type": "execute_result",
          "data": {
            "text/plain": [
              "''"
            ],
            "application/vnd.google.colaboratory.intrinsic+json": {
              "type": "string"
            }
          },
          "metadata": {},
          "execution_count": 20
        }
      ]
    },
    {
      "cell_type": "code",
      "execution_count": 10,
      "metadata": {
        "id": "nXlmbOQadd8Z"
      },
      "outputs": [],
      "source": [
        "import requests\n",
        "\n",
        "#データ取得のためのダミー設定値。スマホからアクセスしているような設定。\n",
        "headers = {\n",
        "    'accept': 'application/json, text/javascript, */*; q=0.01',\n",
        "    'countrycode': '304',\n",
        "    'authorization': 'Bearer',\n",
        "    'langcode': '1',\n",
        "    'user-agent': 'Mozilla/5.0 (Linux; Android 8.0; Pixel 2 Build/OPD3.170816.012) AppleWebKit/537.36 (KHTML, like Gecko) Chrome/83.0.4103.61 Mobile Safari/537.36',\n",
        "    'content-type': 'application/json'\n",
        "}\n",
        "\n",
        "data = '{\"soft\":\"Sw\"}'\n",
        "#リクエストを出してシーズン情報を取得\n",
        "response_base = requests.post('https://api.battle.pokemon-home.com/cbd/competition/rankmatch/list', headers=headers, data=data)\n",
        "info_all = json.loads(response_base.text)"
      ]
    },
    {
      "cell_type": "code",
      "source": [
        "#@title 取り出したい情報 { display-mode: \"both\" }\n",
        "#seasonには数字を入力して下し\n",
        "#ruleにはシングルなら1、ダブルなら0を入力してください。\n",
        "season = \"30\" #@param {type:\"string\"}\n",
        "rule = 0 #@param {type:\"integer\"}\n"
      ],
      "metadata": {
        "id": "FMxZaE3Xex1N"
      },
      "execution_count": 3,
      "outputs": []
    },
    {
      "cell_type": "code",
      "source": [
        "#指定したシーズン情報を取り出すためのリクエストパラメータ取得\n",
        "info_season = info_all['list'][season]\n",
        "\n",
        "for content in info_season:\n",
        "  if info_season[content]['rule'] == rule:\n",
        "    params = {'id':content, 'rst':str(info_season[content]['rst']), 'ts1':str(info_season[content]['ts1']), 'ts2':str(info_season[content]['ts2'])}"
      ],
      "metadata": {
        "id": "yUZlGtNeee36"
      },
      "execution_count": 4,
      "outputs": []
    },
    {
      "cell_type": "code",
      "source": [
        "for x in range(1,2):\n",
        "    adress = \"https://resource.pokemon-home.com/battledata/ranking/\"+params[\"id\"]+\"/\"+params[\"rst\"]+\"/\"+params[\"ts2\"]+\"/pdetail-\"+str(x)\n",
        "    headers = {\n",
        "        'user-agent': 'Mozilla/5.0 (Linux; Android 8.0; Pixel 2 Build/OPD3.170816.012) AppleWebKit/537.36 (KHTML, like Gecko) Chrome/83.0.4103.61 Mobile Safari/537.36',\n",
        "        'content-type': 'application/json',\n",
        "    }\n",
        "\n",
        "    response = requests.get(adress, headers=headers)\n",
        "    json_read= json.loads(response.text)"
      ],
      "metadata": {
        "id": "VF5pibOTj2st"
      },
      "execution_count": 5,
      "outputs": []
    }
  ]
}